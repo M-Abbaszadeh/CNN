{
  "cells": [
    {
      "cell_type": "markdown",
      "metadata": {
        "id": "view-in-github",
        "colab_type": "text"
      },
      "source": [
        "<a href=\"https://colab.research.google.com/github/M-Abbaszadeh/CNN/blob/main/first_MA.ipynb\" target=\"_parent\"><img src=\"https://colab.research.google.com/assets/colab-badge.svg\" alt=\"Open In Colab\"/></a>"
      ]
    },
    {
      "cell_type": "code",
      "source": [
        "import os\n",
        "import math\n",
        "import numpy as np\n",
        "import pandas as pd\n",
        "import torch\n",
        "import torch.nn as nn\n",
        "import torch.optim as optim\n",
        "from torch.utils.data import DataLoader, TensorDataset\n",
        "import matplotlib.pyplot as plt\n",
        "from datetime import datetime"
      ],
      "metadata": {
        "id": "WZC7RtHwxB5h"
      },
      "execution_count": 2,
      "outputs": []
    },
    {
      "cell_type": "code",
      "source": [
        "# Check if a GPU is available\n",
        "device = torch.device(\"cuda\" if torch.cuda.is_available() else \"cpu\")\n",
        "print(f\"Using device: {device}\")"
      ],
      "metadata": {
        "id": "lv-oDCq9xEYL",
        "outputId": "5bcd09ab-6c26-4fe7-8abd-60a43e8122ff",
        "colab": {
          "base_uri": "https://localhost:8080/"
        }
      },
      "execution_count": 3,
      "outputs": [
        {
          "output_type": "stream",
          "name": "stdout",
          "text": [
            "Using device: cpu\n"
          ]
        }
      ]
    },
    {
      "cell_type": "code",
      "source": [
        "# 1. Data Loading Function\n",
        "def load_data(data_dir, file_prefix, file_range):\n",
        "    all_tensors = []\n",
        "    all_xyz = []\n",
        "    all_center_values = []\n",
        "\n",
        "    for i in file_range:\n",
        "        file_name = f\"{file_prefix}{i:04d}_all_grids.npz\"\n",
        "        file_path = os.path.join(data_dir, file_name)\n",
        "\n",
        "        if os.path.exists(file_path):\n",
        "            data = np.load(file_path)\n",
        "            print(f\"Loaded {file_name}\")\n",
        "            tensors = data['tensors'][:, :, :, 3:-1]  # Retain only the desired features its [samples:grid_height:grid_width:features]\n",
        "            xyz = data['tensors'][:, :, :, 0:3]\n",
        "            center_values = data['center_values']\n",
        "\n",
        "            all_tensors.append(tensors)\n",
        "            all_xyz.append(xyz)\n",
        "            all_center_values.append(center_values)\n",
        "        else:\n",
        "            print(f\"File {file_name} not found, skipping...\")\n",
        "\n",
        "    all_tensors = np.concatenate(all_tensors, axis=0)\n",
        "    all_xyz = np.concatenate(all_xyz, axis=0)\n",
        "    all_center_values = np.concatenate(all_center_values, axis=0)\n",
        "    print(\"Combined tensors shape:\", all_tensors.shape)  # Expected: (total_samples, 21, 21, num_features)\n",
        "    print(\"Combined xyz shape:\", all_xyz.shape)  # Expected: (total_samples, 21, 21, num_features)\n",
        "    print(\"Combined center values shape:\", all_center_values.shape)  # Expected: (total_samples,)\n",
        "\n",
        "    return all_tensors, all_xyz, all_center_values"
      ],
      "metadata": {
        "id": "bjRKqMdIPMkv"
      },
      "execution_count": 4,
      "outputs": []
    },
    {
      "cell_type": "code",
      "source": [],
      "metadata": {
        "id": "I9wXSe0TPdV9"
      },
      "execution_count": null,
      "outputs": []
    }
  ],
  "metadata": {
    "colab": {
      "name": "Welcome to Colab",
      "provenance": [],
      "toc_visible": true,
      "include_colab_link": true
    },
    "kernelspec": {
      "display_name": "Python 3",
      "name": "python3"
    }
  },
  "nbformat": 4,
  "nbformat_minor": 0
}